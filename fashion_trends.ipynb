{
  "cells": [
    {
      "cell_type": "code",
      "execution_count": null,
      "metadata": {
        "id": "OXjUwXB16jMT"
      },
      "outputs": [],
      "source": [
        "import numpy as np\n",
        "import pandas as pd\n",
        "import matplotlib.pyplot as plt\n",
        "import seaborn as sns"
      ]
    },
    {
      "cell_type": "code",
      "execution_count": null,
      "metadata": {
        "id": "rsdRPm7g7Q9s"
      },
      "outputs": [],
      "source": [
        "import warnings\n",
        "warnings.filterwarnings('ignore')"
      ]
    },
    {
      "cell_type": "code",
      "execution_count": null,
      "metadata": {
        "colab": {
          "base_uri": "https://localhost:8080/"
        },
        "id": "GOBCLHx57uii",
        "outputId": "c890c629-9319-4f2d-feee-3bea613ea922"
      },
      "outputs": [
        {
          "output_type": "stream",
          "name": "stdout",
          "text": [
            "   product_id    product_name  gender category     pattern  color age_group  \\\n",
            "0        1001    Biker Jacket    Male    Shirt   Geometric  White     25-35   \n",
            "1        1002  Business Shirt    Male   Jacket  Polka Dots  Beige     18-24   \n",
            "2        1003     Wool Jacket  Female    Dress   Geometric  Brown     18-24   \n",
            "3        1004    Summer Dress    Male   Shorts       Plain  White     25-35   \n",
            "4        1005    Casual Jeans    Male    Shirt       Plain  Beige     35-45   \n",
            "\n",
            "   season   price   material  sales_count  reviews_count  average_rating  \\\n",
            "0  Spring   70.36  Synthetic           75             65             4.9   \n",
            "1  Summer   91.59       Wool          296             25             3.5   \n",
            "2     All  129.52       Wool           50             32             4.3   \n",
            "3     All  116.01     Cotton          435             73             4.6   \n",
            "4  Winter  125.48    Viscose           79             36             3.6   \n",
            "\n",
            "   out_of_stock_times brand  discount  \n",
            "0                   3  ZARA      0.20  \n",
            "1                   6  ZARA      0.00  \n",
            "2                   4  ZARA      0.05  \n",
            "3                   3  ZARA      0.10  \n",
            "4                   4  ZARA      0.00  \n"
          ]
        }
      ],
      "source": [
        "\n",
        "\n",
        "data = pd.read_excel(r'/content/fashion.xlsx', engine='openpyxl')\n",
        "print(data.head())\n"
      ]
    },
    {
      "cell_type": "code",
      "execution_count": null,
      "metadata": {
        "colab": {
          "base_uri": "https://localhost:8080/"
        },
        "id": "QmftlYlH8ASx",
        "outputId": "f7c2880d-3754-4405-8c08-0273d51f27d5"
      },
      "outputs": [
        {
          "output_type": "execute_result",
          "data": {
            "text/plain": [
              "product_id            0\n",
              "product_name          0\n",
              "gender                0\n",
              "category              0\n",
              "pattern               0\n",
              "color                 0\n",
              "age_group             0\n",
              "season                0\n",
              "price                 0\n",
              "material              0\n",
              "sales_count           0\n",
              "reviews_count         0\n",
              "average_rating        0\n",
              "out_of_stock_times    0\n",
              "brand                 0\n",
              "discount              0\n",
              "dtype: int64"
            ]
          },
          "metadata": {},
          "execution_count": 4
        }
      ],
      "source": [
        "data.isnull().sum()"
      ]
    },
    {
      "cell_type": "code",
      "execution_count": null,
      "metadata": {
        "colab": {
          "base_uri": "https://localhost:8080/"
        },
        "id": "6gasb-v78L11",
        "outputId": "7d015d2d-5c3c-4396-9df2-fdb6f2ff1f1d"
      },
      "outputs": [
        {
          "output_type": "execute_result",
          "data": {
            "text/plain": [
              "product_id              int64\n",
              "product_name           object\n",
              "gender                 object\n",
              "category               object\n",
              "pattern                object\n",
              "color                  object\n",
              "age_group              object\n",
              "season                 object\n",
              "price                 float64\n",
              "material               object\n",
              "sales_count             int64\n",
              "reviews_count           int64\n",
              "average_rating        float64\n",
              "out_of_stock_times      int64\n",
              "brand                  object\n",
              "discount              float64\n",
              "dtype: object"
            ]
          },
          "metadata": {},
          "execution_count": 5
        }
      ],
      "source": [
        "\n",
        "data.dtypes"
      ]
    },
    {
      "cell_type": "code",
      "execution_count": null,
      "metadata": {
        "colab": {
          "base_uri": "https://localhost:8080/",
          "height": 560
        },
        "id": "Hf01qR1m8SAD",
        "outputId": "18d7f0eb-8ff6-4df2-b83b-c40ddb8e6463"
      },
      "outputs": [
        {
          "output_type": "execute_result",
          "data": {
            "text/plain": [
              "    product_id    product_name  gender category     pattern  color age_group  \\\n",
              "0         1001    Biker Jacket    Male    Shirt   Geometric  White     25-35   \n",
              "1         1002  Business Shirt    Male   Jacket  Polka Dots  Beige     18-24   \n",
              "2         1003     Wool Jacket  Female    Dress   Geometric  Brown     18-24   \n",
              "3         1004    Summer Dress    Male   Shorts       Plain  White     25-35   \n",
              "4         1005    Casual Jeans    Male    Shirt       Plain  Beige     35-45   \n",
              "5         1006  Business Shirt  Female    Shirt       Plain  Brown     35-45   \n",
              "6         1007    Casual Jeans  Female   Blouse       Plain  Beige     25-35   \n",
              "7         1008           Heels    Male    Shoes   Geometric  Beige     25-35   \n",
              "8         1009     Beach Shirt  Female    Shirt  Polka Dots  Brown     35-45   \n",
              "9         1010   Pattern Skirt  Female    Jeans       Plain  Brown     35-45   \n",
              "10        1011  Business Shirt  Female    Dress       Plain  Beige     25-35   \n",
              "11        1012          Blouse  Female   Jacket       Plain  White     18-24   \n",
              "12        1013    Chino Shorts  Female    Jeans       Heart    Red     25-35   \n",
              "13        1014   Pattern Skirt  Female    Jeans       Heart   Pink     18-24   \n",
              "\n",
              "    season   price   material  sales_count  reviews_count  average_rating  \\\n",
              "0   Spring   70.36  Synthetic           75             65             4.9   \n",
              "1   Summer   91.59       Wool          296             25             3.5   \n",
              "2      All  129.52       Wool           50             32             4.3   \n",
              "3      All  116.01     Cotton          435             73             4.6   \n",
              "4   Winter  125.48    Viscose           79             36             3.6   \n",
              "5   Spring   23.90      Denim          332             96             4.7   \n",
              "6      All   27.95      Denim          100             92             4.0   \n",
              "7   Autumn   87.09    Viscose          333             97             3.2   \n",
              "8      All   97.10      Denim          424             68             3.5   \n",
              "9   Summer   42.82  Synthetic          335             33             4.1   \n",
              "10     All   85.52  Synthetic          304             87             3.7   \n",
              "11  Spring   36.11     Cotton           62             97             4.6   \n",
              "12  Autumn  112.16    Leather          352             38             4.4   \n",
              "13  Winter   91.96    Leather          461             48             4.0   \n",
              "\n",
              "    out_of_stock_times brand  discount  \n",
              "0                    3  ZARA      0.20  \n",
              "1                    6  ZARA      0.00  \n",
              "2                    4  ZARA      0.05  \n",
              "3                    3  ZARA      0.10  \n",
              "4                    4  ZARA      0.00  \n",
              "5                    6  ZARA      0.15  \n",
              "6                    3  ZARA      0.10  \n",
              "7                    3  ZARA      0.00  \n",
              "8                    6  ZARA      0.10  \n",
              "9                    6  ZARA      0.00  \n",
              "10                   2  ZARA      0.05  \n",
              "11                   5  ZARA      0.00  \n",
              "12                   4  ZARA      0.20  \n",
              "13                   5  ZARA      0.10  "
            ],
            "text/html": [
              "\n",
              "  <div id=\"df-162842d6-3271-4502-9982-9dcb6042d681\" class=\"colab-df-container\">\n",
              "    <div>\n",
              "<style scoped>\n",
              "    .dataframe tbody tr th:only-of-type {\n",
              "        vertical-align: middle;\n",
              "    }\n",
              "\n",
              "    .dataframe tbody tr th {\n",
              "        vertical-align: top;\n",
              "    }\n",
              "\n",
              "    .dataframe thead th {\n",
              "        text-align: right;\n",
              "    }\n",
              "</style>\n",
              "<table border=\"1\" class=\"dataframe\">\n",
              "  <thead>\n",
              "    <tr style=\"text-align: right;\">\n",
              "      <th></th>\n",
              "      <th>product_id</th>\n",
              "      <th>product_name</th>\n",
              "      <th>gender</th>\n",
              "      <th>category</th>\n",
              "      <th>pattern</th>\n",
              "      <th>color</th>\n",
              "      <th>age_group</th>\n",
              "      <th>season</th>\n",
              "      <th>price</th>\n",
              "      <th>material</th>\n",
              "      <th>sales_count</th>\n",
              "      <th>reviews_count</th>\n",
              "      <th>average_rating</th>\n",
              "      <th>out_of_stock_times</th>\n",
              "      <th>brand</th>\n",
              "      <th>discount</th>\n",
              "    </tr>\n",
              "  </thead>\n",
              "  <tbody>\n",
              "    <tr>\n",
              "      <th>0</th>\n",
              "      <td>1001</td>\n",
              "      <td>Biker Jacket</td>\n",
              "      <td>Male</td>\n",
              "      <td>Shirt</td>\n",
              "      <td>Geometric</td>\n",
              "      <td>White</td>\n",
              "      <td>25-35</td>\n",
              "      <td>Spring</td>\n",
              "      <td>70.36</td>\n",
              "      <td>Synthetic</td>\n",
              "      <td>75</td>\n",
              "      <td>65</td>\n",
              "      <td>4.9</td>\n",
              "      <td>3</td>\n",
              "      <td>ZARA</td>\n",
              "      <td>0.20</td>\n",
              "    </tr>\n",
              "    <tr>\n",
              "      <th>1</th>\n",
              "      <td>1002</td>\n",
              "      <td>Business Shirt</td>\n",
              "      <td>Male</td>\n",
              "      <td>Jacket</td>\n",
              "      <td>Polka Dots</td>\n",
              "      <td>Beige</td>\n",
              "      <td>18-24</td>\n",
              "      <td>Summer</td>\n",
              "      <td>91.59</td>\n",
              "      <td>Wool</td>\n",
              "      <td>296</td>\n",
              "      <td>25</td>\n",
              "      <td>3.5</td>\n",
              "      <td>6</td>\n",
              "      <td>ZARA</td>\n",
              "      <td>0.00</td>\n",
              "    </tr>\n",
              "    <tr>\n",
              "      <th>2</th>\n",
              "      <td>1003</td>\n",
              "      <td>Wool Jacket</td>\n",
              "      <td>Female</td>\n",
              "      <td>Dress</td>\n",
              "      <td>Geometric</td>\n",
              "      <td>Brown</td>\n",
              "      <td>18-24</td>\n",
              "      <td>All</td>\n",
              "      <td>129.52</td>\n",
              "      <td>Wool</td>\n",
              "      <td>50</td>\n",
              "      <td>32</td>\n",
              "      <td>4.3</td>\n",
              "      <td>4</td>\n",
              "      <td>ZARA</td>\n",
              "      <td>0.05</td>\n",
              "    </tr>\n",
              "    <tr>\n",
              "      <th>3</th>\n",
              "      <td>1004</td>\n",
              "      <td>Summer Dress</td>\n",
              "      <td>Male</td>\n",
              "      <td>Shorts</td>\n",
              "      <td>Plain</td>\n",
              "      <td>White</td>\n",
              "      <td>25-35</td>\n",
              "      <td>All</td>\n",
              "      <td>116.01</td>\n",
              "      <td>Cotton</td>\n",
              "      <td>435</td>\n",
              "      <td>73</td>\n",
              "      <td>4.6</td>\n",
              "      <td>3</td>\n",
              "      <td>ZARA</td>\n",
              "      <td>0.10</td>\n",
              "    </tr>\n",
              "    <tr>\n",
              "      <th>4</th>\n",
              "      <td>1005</td>\n",
              "      <td>Casual Jeans</td>\n",
              "      <td>Male</td>\n",
              "      <td>Shirt</td>\n",
              "      <td>Plain</td>\n",
              "      <td>Beige</td>\n",
              "      <td>35-45</td>\n",
              "      <td>Winter</td>\n",
              "      <td>125.48</td>\n",
              "      <td>Viscose</td>\n",
              "      <td>79</td>\n",
              "      <td>36</td>\n",
              "      <td>3.6</td>\n",
              "      <td>4</td>\n",
              "      <td>ZARA</td>\n",
              "      <td>0.00</td>\n",
              "    </tr>\n",
              "    <tr>\n",
              "      <th>5</th>\n",
              "      <td>1006</td>\n",
              "      <td>Business Shirt</td>\n",
              "      <td>Female</td>\n",
              "      <td>Shirt</td>\n",
              "      <td>Plain</td>\n",
              "      <td>Brown</td>\n",
              "      <td>35-45</td>\n",
              "      <td>Spring</td>\n",
              "      <td>23.90</td>\n",
              "      <td>Denim</td>\n",
              "      <td>332</td>\n",
              "      <td>96</td>\n",
              "      <td>4.7</td>\n",
              "      <td>6</td>\n",
              "      <td>ZARA</td>\n",
              "      <td>0.15</td>\n",
              "    </tr>\n",
              "    <tr>\n",
              "      <th>6</th>\n",
              "      <td>1007</td>\n",
              "      <td>Casual Jeans</td>\n",
              "      <td>Female</td>\n",
              "      <td>Blouse</td>\n",
              "      <td>Plain</td>\n",
              "      <td>Beige</td>\n",
              "      <td>25-35</td>\n",
              "      <td>All</td>\n",
              "      <td>27.95</td>\n",
              "      <td>Denim</td>\n",
              "      <td>100</td>\n",
              "      <td>92</td>\n",
              "      <td>4.0</td>\n",
              "      <td>3</td>\n",
              "      <td>ZARA</td>\n",
              "      <td>0.10</td>\n",
              "    </tr>\n",
              "    <tr>\n",
              "      <th>7</th>\n",
              "      <td>1008</td>\n",
              "      <td>Heels</td>\n",
              "      <td>Male</td>\n",
              "      <td>Shoes</td>\n",
              "      <td>Geometric</td>\n",
              "      <td>Beige</td>\n",
              "      <td>25-35</td>\n",
              "      <td>Autumn</td>\n",
              "      <td>87.09</td>\n",
              "      <td>Viscose</td>\n",
              "      <td>333</td>\n",
              "      <td>97</td>\n",
              "      <td>3.2</td>\n",
              "      <td>3</td>\n",
              "      <td>ZARA</td>\n",
              "      <td>0.00</td>\n",
              "    </tr>\n",
              "    <tr>\n",
              "      <th>8</th>\n",
              "      <td>1009</td>\n",
              "      <td>Beach Shirt</td>\n",
              "      <td>Female</td>\n",
              "      <td>Shirt</td>\n",
              "      <td>Polka Dots</td>\n",
              "      <td>Brown</td>\n",
              "      <td>35-45</td>\n",
              "      <td>All</td>\n",
              "      <td>97.10</td>\n",
              "      <td>Denim</td>\n",
              "      <td>424</td>\n",
              "      <td>68</td>\n",
              "      <td>3.5</td>\n",
              "      <td>6</td>\n",
              "      <td>ZARA</td>\n",
              "      <td>0.10</td>\n",
              "    </tr>\n",
              "    <tr>\n",
              "      <th>9</th>\n",
              "      <td>1010</td>\n",
              "      <td>Pattern Skirt</td>\n",
              "      <td>Female</td>\n",
              "      <td>Jeans</td>\n",
              "      <td>Plain</td>\n",
              "      <td>Brown</td>\n",
              "      <td>35-45</td>\n",
              "      <td>Summer</td>\n",
              "      <td>42.82</td>\n",
              "      <td>Synthetic</td>\n",
              "      <td>335</td>\n",
              "      <td>33</td>\n",
              "      <td>4.1</td>\n",
              "      <td>6</td>\n",
              "      <td>ZARA</td>\n",
              "      <td>0.00</td>\n",
              "    </tr>\n",
              "    <tr>\n",
              "      <th>10</th>\n",
              "      <td>1011</td>\n",
              "      <td>Business Shirt</td>\n",
              "      <td>Female</td>\n",
              "      <td>Dress</td>\n",
              "      <td>Plain</td>\n",
              "      <td>Beige</td>\n",
              "      <td>25-35</td>\n",
              "      <td>All</td>\n",
              "      <td>85.52</td>\n",
              "      <td>Synthetic</td>\n",
              "      <td>304</td>\n",
              "      <td>87</td>\n",
              "      <td>3.7</td>\n",
              "      <td>2</td>\n",
              "      <td>ZARA</td>\n",
              "      <td>0.05</td>\n",
              "    </tr>\n",
              "    <tr>\n",
              "      <th>11</th>\n",
              "      <td>1012</td>\n",
              "      <td>Blouse</td>\n",
              "      <td>Female</td>\n",
              "      <td>Jacket</td>\n",
              "      <td>Plain</td>\n",
              "      <td>White</td>\n",
              "      <td>18-24</td>\n",
              "      <td>Spring</td>\n",
              "      <td>36.11</td>\n",
              "      <td>Cotton</td>\n",
              "      <td>62</td>\n",
              "      <td>97</td>\n",
              "      <td>4.6</td>\n",
              "      <td>5</td>\n",
              "      <td>ZARA</td>\n",
              "      <td>0.00</td>\n",
              "    </tr>\n",
              "    <tr>\n",
              "      <th>12</th>\n",
              "      <td>1013</td>\n",
              "      <td>Chino Shorts</td>\n",
              "      <td>Female</td>\n",
              "      <td>Jeans</td>\n",
              "      <td>Heart</td>\n",
              "      <td>Red</td>\n",
              "      <td>25-35</td>\n",
              "      <td>Autumn</td>\n",
              "      <td>112.16</td>\n",
              "      <td>Leather</td>\n",
              "      <td>352</td>\n",
              "      <td>38</td>\n",
              "      <td>4.4</td>\n",
              "      <td>4</td>\n",
              "      <td>ZARA</td>\n",
              "      <td>0.20</td>\n",
              "    </tr>\n",
              "    <tr>\n",
              "      <th>13</th>\n",
              "      <td>1014</td>\n",
              "      <td>Pattern Skirt</td>\n",
              "      <td>Female</td>\n",
              "      <td>Jeans</td>\n",
              "      <td>Heart</td>\n",
              "      <td>Pink</td>\n",
              "      <td>18-24</td>\n",
              "      <td>Winter</td>\n",
              "      <td>91.96</td>\n",
              "      <td>Leather</td>\n",
              "      <td>461</td>\n",
              "      <td>48</td>\n",
              "      <td>4.0</td>\n",
              "      <td>5</td>\n",
              "      <td>ZARA</td>\n",
              "      <td>0.10</td>\n",
              "    </tr>\n",
              "  </tbody>\n",
              "</table>\n",
              "</div>\n",
              "    <div class=\"colab-df-buttons\">\n",
              "\n",
              "  <div class=\"colab-df-container\">\n",
              "    <button class=\"colab-df-convert\" onclick=\"convertToInteractive('df-162842d6-3271-4502-9982-9dcb6042d681')\"\n",
              "            title=\"Convert this dataframe to an interactive table.\"\n",
              "            style=\"display:none;\">\n",
              "\n",
              "  <svg xmlns=\"http://www.w3.org/2000/svg\" height=\"24px\" viewBox=\"0 -960 960 960\">\n",
              "    <path d=\"M120-120v-720h720v720H120Zm60-500h600v-160H180v160Zm220 220h160v-160H400v160Zm0 220h160v-160H400v160ZM180-400h160v-160H180v160Zm440 0h160v-160H620v160ZM180-180h160v-160H180v160Zm440 0h160v-160H620v160Z\"/>\n",
              "  </svg>\n",
              "    </button>\n",
              "\n",
              "  <style>\n",
              "    .colab-df-container {\n",
              "      display:flex;\n",
              "      gap: 12px;\n",
              "    }\n",
              "\n",
              "    .colab-df-convert {\n",
              "      background-color: #E8F0FE;\n",
              "      border: none;\n",
              "      border-radius: 50%;\n",
              "      cursor: pointer;\n",
              "      display: none;\n",
              "      fill: #1967D2;\n",
              "      height: 32px;\n",
              "      padding: 0 0 0 0;\n",
              "      width: 32px;\n",
              "    }\n",
              "\n",
              "    .colab-df-convert:hover {\n",
              "      background-color: #E2EBFA;\n",
              "      box-shadow: 0px 1px 2px rgba(60, 64, 67, 0.3), 0px 1px 3px 1px rgba(60, 64, 67, 0.15);\n",
              "      fill: #174EA6;\n",
              "    }\n",
              "\n",
              "    .colab-df-buttons div {\n",
              "      margin-bottom: 4px;\n",
              "    }\n",
              "\n",
              "    [theme=dark] .colab-df-convert {\n",
              "      background-color: #3B4455;\n",
              "      fill: #D2E3FC;\n",
              "    }\n",
              "\n",
              "    [theme=dark] .colab-df-convert:hover {\n",
              "      background-color: #434B5C;\n",
              "      box-shadow: 0px 1px 3px 1px rgba(0, 0, 0, 0.15);\n",
              "      filter: drop-shadow(0px 1px 2px rgba(0, 0, 0, 0.3));\n",
              "      fill: #FFFFFF;\n",
              "    }\n",
              "  </style>\n",
              "\n",
              "    <script>\n",
              "      const buttonEl =\n",
              "        document.querySelector('#df-162842d6-3271-4502-9982-9dcb6042d681 button.colab-df-convert');\n",
              "      buttonEl.style.display =\n",
              "        google.colab.kernel.accessAllowed ? 'block' : 'none';\n",
              "\n",
              "      async function convertToInteractive(key) {\n",
              "        const element = document.querySelector('#df-162842d6-3271-4502-9982-9dcb6042d681');\n",
              "        const dataTable =\n",
              "          await google.colab.kernel.invokeFunction('convertToInteractive',\n",
              "                                                    [key], {});\n",
              "        if (!dataTable) return;\n",
              "\n",
              "        const docLinkHtml = 'Like what you see? Visit the ' +\n",
              "          '<a target=\"_blank\" href=https://colab.research.google.com/notebooks/data_table.ipynb>data table notebook</a>'\n",
              "          + ' to learn more about interactive tables.';\n",
              "        element.innerHTML = '';\n",
              "        dataTable['output_type'] = 'display_data';\n",
              "        await google.colab.output.renderOutput(dataTable, element);\n",
              "        const docLink = document.createElement('div');\n",
              "        docLink.innerHTML = docLinkHtml;\n",
              "        element.appendChild(docLink);\n",
              "      }\n",
              "    </script>\n",
              "  </div>\n",
              "\n",
              "\n",
              "<div id=\"df-f72e92ed-ef34-43b3-b0db-c49ab9df3465\">\n",
              "  <button class=\"colab-df-quickchart\" onclick=\"quickchart('df-f72e92ed-ef34-43b3-b0db-c49ab9df3465')\"\n",
              "            title=\"Suggest charts\"\n",
              "            style=\"display:none;\">\n",
              "\n",
              "<svg xmlns=\"http://www.w3.org/2000/svg\" height=\"24px\"viewBox=\"0 0 24 24\"\n",
              "     width=\"24px\">\n",
              "    <g>\n",
              "        <path d=\"M19 3H5c-1.1 0-2 .9-2 2v14c0 1.1.9 2 2 2h14c1.1 0 2-.9 2-2V5c0-1.1-.9-2-2-2zM9 17H7v-7h2v7zm4 0h-2V7h2v10zm4 0h-2v-4h2v4z\"/>\n",
              "    </g>\n",
              "</svg>\n",
              "  </button>\n",
              "\n",
              "<style>\n",
              "  .colab-df-quickchart {\n",
              "      --bg-color: #E8F0FE;\n",
              "      --fill-color: #1967D2;\n",
              "      --hover-bg-color: #E2EBFA;\n",
              "      --hover-fill-color: #174EA6;\n",
              "      --disabled-fill-color: #AAA;\n",
              "      --disabled-bg-color: #DDD;\n",
              "  }\n",
              "\n",
              "  [theme=dark] .colab-df-quickchart {\n",
              "      --bg-color: #3B4455;\n",
              "      --fill-color: #D2E3FC;\n",
              "      --hover-bg-color: #434B5C;\n",
              "      --hover-fill-color: #FFFFFF;\n",
              "      --disabled-bg-color: #3B4455;\n",
              "      --disabled-fill-color: #666;\n",
              "  }\n",
              "\n",
              "  .colab-df-quickchart {\n",
              "    background-color: var(--bg-color);\n",
              "    border: none;\n",
              "    border-radius: 50%;\n",
              "    cursor: pointer;\n",
              "    display: none;\n",
              "    fill: var(--fill-color);\n",
              "    height: 32px;\n",
              "    padding: 0;\n",
              "    width: 32px;\n",
              "  }\n",
              "\n",
              "  .colab-df-quickchart:hover {\n",
              "    background-color: var(--hover-bg-color);\n",
              "    box-shadow: 0 1px 2px rgba(60, 64, 67, 0.3), 0 1px 3px 1px rgba(60, 64, 67, 0.15);\n",
              "    fill: var(--button-hover-fill-color);\n",
              "  }\n",
              "\n",
              "  .colab-df-quickchart-complete:disabled,\n",
              "  .colab-df-quickchart-complete:disabled:hover {\n",
              "    background-color: var(--disabled-bg-color);\n",
              "    fill: var(--disabled-fill-color);\n",
              "    box-shadow: none;\n",
              "  }\n",
              "\n",
              "  .colab-df-spinner {\n",
              "    border: 2px solid var(--fill-color);\n",
              "    border-color: transparent;\n",
              "    border-bottom-color: var(--fill-color);\n",
              "    animation:\n",
              "      spin 1s steps(1) infinite;\n",
              "  }\n",
              "\n",
              "  @keyframes spin {\n",
              "    0% {\n",
              "      border-color: transparent;\n",
              "      border-bottom-color: var(--fill-color);\n",
              "      border-left-color: var(--fill-color);\n",
              "    }\n",
              "    20% {\n",
              "      border-color: transparent;\n",
              "      border-left-color: var(--fill-color);\n",
              "      border-top-color: var(--fill-color);\n",
              "    }\n",
              "    30% {\n",
              "      border-color: transparent;\n",
              "      border-left-color: var(--fill-color);\n",
              "      border-top-color: var(--fill-color);\n",
              "      border-right-color: var(--fill-color);\n",
              "    }\n",
              "    40% {\n",
              "      border-color: transparent;\n",
              "      border-right-color: var(--fill-color);\n",
              "      border-top-color: var(--fill-color);\n",
              "    }\n",
              "    60% {\n",
              "      border-color: transparent;\n",
              "      border-right-color: var(--fill-color);\n",
              "    }\n",
              "    80% {\n",
              "      border-color: transparent;\n",
              "      border-right-color: var(--fill-color);\n",
              "      border-bottom-color: var(--fill-color);\n",
              "    }\n",
              "    90% {\n",
              "      border-color: transparent;\n",
              "      border-bottom-color: var(--fill-color);\n",
              "    }\n",
              "  }\n",
              "</style>\n",
              "\n",
              "  <script>\n",
              "    async function quickchart(key) {\n",
              "      const quickchartButtonEl =\n",
              "        document.querySelector('#' + key + ' button');\n",
              "      quickchartButtonEl.disabled = true;  // To prevent multiple clicks.\n",
              "      quickchartButtonEl.classList.add('colab-df-spinner');\n",
              "      try {\n",
              "        const charts = await google.colab.kernel.invokeFunction(\n",
              "            'suggestCharts', [key], {});\n",
              "      } catch (error) {\n",
              "        console.error('Error during call to suggestCharts:', error);\n",
              "      }\n",
              "      quickchartButtonEl.classList.remove('colab-df-spinner');\n",
              "      quickchartButtonEl.classList.add('colab-df-quickchart-complete');\n",
              "    }\n",
              "    (() => {\n",
              "      let quickchartButtonEl =\n",
              "        document.querySelector('#df-f72e92ed-ef34-43b3-b0db-c49ab9df3465 button');\n",
              "      quickchartButtonEl.style.display =\n",
              "        google.colab.kernel.accessAllowed ? 'block' : 'none';\n",
              "    })();\n",
              "  </script>\n",
              "</div>\n",
              "\n",
              "  <div id=\"id_8397e2bf-6a5b-492b-a0c3-015aea80a141\">\n",
              "    <style>\n",
              "      .colab-df-generate {\n",
              "        background-color: #E8F0FE;\n",
              "        border: none;\n",
              "        border-radius: 50%;\n",
              "        cursor: pointer;\n",
              "        display: none;\n",
              "        fill: #1967D2;\n",
              "        height: 32px;\n",
              "        padding: 0 0 0 0;\n",
              "        width: 32px;\n",
              "      }\n",
              "\n",
              "      .colab-df-generate:hover {\n",
              "        background-color: #E2EBFA;\n",
              "        box-shadow: 0px 1px 2px rgba(60, 64, 67, 0.3), 0px 1px 3px 1px rgba(60, 64, 67, 0.15);\n",
              "        fill: #174EA6;\n",
              "      }\n",
              "\n",
              "      [theme=dark] .colab-df-generate {\n",
              "        background-color: #3B4455;\n",
              "        fill: #D2E3FC;\n",
              "      }\n",
              "\n",
              "      [theme=dark] .colab-df-generate:hover {\n",
              "        background-color: #434B5C;\n",
              "        box-shadow: 0px 1px 3px 1px rgba(0, 0, 0, 0.15);\n",
              "        filter: drop-shadow(0px 1px 2px rgba(0, 0, 0, 0.3));\n",
              "        fill: #FFFFFF;\n",
              "      }\n",
              "    </style>\n",
              "    <button class=\"colab-df-generate\" onclick=\"generateWithVariable('data')\"\n",
              "            title=\"Generate code using this dataframe.\"\n",
              "            style=\"display:none;\">\n",
              "\n",
              "  <svg xmlns=\"http://www.w3.org/2000/svg\" height=\"24px\"viewBox=\"0 0 24 24\"\n",
              "       width=\"24px\">\n",
              "    <path d=\"M7,19H8.4L18.45,9,17,7.55,7,17.6ZM5,21V16.75L18.45,3.32a2,2,0,0,1,2.83,0l1.4,1.43a1.91,1.91,0,0,1,.58,1.4,1.91,1.91,0,0,1-.58,1.4L9.25,21ZM18.45,9,17,7.55Zm-12,3A5.31,5.31,0,0,0,4.9,8.1,5.31,5.31,0,0,0,1,6.5,5.31,5.31,0,0,0,4.9,4.9,5.31,5.31,0,0,0,6.5,1,5.31,5.31,0,0,0,8.1,4.9,5.31,5.31,0,0,0,12,6.5,5.46,5.46,0,0,0,6.5,12Z\"/>\n",
              "  </svg>\n",
              "    </button>\n",
              "    <script>\n",
              "      (() => {\n",
              "      const buttonEl =\n",
              "        document.querySelector('#id_8397e2bf-6a5b-492b-a0c3-015aea80a141 button.colab-df-generate');\n",
              "      buttonEl.style.display =\n",
              "        google.colab.kernel.accessAllowed ? 'block' : 'none';\n",
              "\n",
              "      buttonEl.onclick = () => {\n",
              "        google.colab.notebook.generateWithVariable('data');\n",
              "      }\n",
              "      })();\n",
              "    </script>\n",
              "  </div>\n",
              "\n",
              "    </div>\n",
              "  </div>\n"
            ],
            "application/vnd.google.colaboratory.intrinsic+json": {
              "type": "dataframe",
              "variable_name": "data",
              "summary": "{\n  \"name\": \"data\",\n  \"rows\": 14,\n  \"fields\": [\n    {\n      \"column\": \"product_id\",\n      \"properties\": {\n        \"dtype\": \"number\",\n        \"std\": 4,\n        \"min\": 1001,\n        \"max\": 1014,\n        \"num_unique_values\": 14,\n        \"samples\": [\n          1010,\n          1012,\n          1001\n        ],\n        \"semantic_type\": \"\",\n        \"description\": \"\"\n      }\n    },\n    {\n      \"column\": \"product_name\",\n      \"properties\": {\n        \"dtype\": \"string\",\n        \"num_unique_values\": 10,\n        \"samples\": [\n          \"Blouse\",\n          \"Business Shirt\",\n          \"Heels\"\n        ],\n        \"semantic_type\": \"\",\n        \"description\": \"\"\n      }\n    },\n    {\n      \"column\": \"gender\",\n      \"properties\": {\n        \"dtype\": \"category\",\n        \"num_unique_values\": 2,\n        \"samples\": [\n          \"Female\",\n          \"Male\"\n        ],\n        \"semantic_type\": \"\",\n        \"description\": \"\"\n      }\n    },\n    {\n      \"column\": \"category\",\n      \"properties\": {\n        \"dtype\": \"string\",\n        \"num_unique_values\": 7,\n        \"samples\": [\n          \"Shirt\",\n          \"Jacket\"\n        ],\n        \"semantic_type\": \"\",\n        \"description\": \"\"\n      }\n    },\n    {\n      \"column\": \"pattern\",\n      \"properties\": {\n        \"dtype\": \"category\",\n        \"num_unique_values\": 4,\n        \"samples\": [\n          \"Polka Dots\",\n          \"Heart\"\n        ],\n        \"semantic_type\": \"\",\n        \"description\": \"\"\n      }\n    },\n    {\n      \"column\": \"color\",\n      \"properties\": {\n        \"dtype\": \"category\",\n        \"num_unique_values\": 5,\n        \"samples\": [\n          \"Beige\",\n          \"Pink\"\n        ],\n        \"semantic_type\": \"\",\n        \"description\": \"\"\n      }\n    },\n    {\n      \"column\": \"age_group\",\n      \"properties\": {\n        \"dtype\": \"category\",\n        \"num_unique_values\": 3,\n        \"samples\": [\n          \"25-35\",\n          \"18-24\"\n        ],\n        \"semantic_type\": \"\",\n        \"description\": \"\"\n      }\n    },\n    {\n      \"column\": \"season\",\n      \"properties\": {\n        \"dtype\": \"category\",\n        \"num_unique_values\": 5,\n        \"samples\": [\n          \"Summer\",\n          \"Autumn\"\n        ],\n        \"semantic_type\": \"\",\n        \"description\": \"\"\n      }\n    },\n    {\n      \"column\": \"price\",\n      \"properties\": {\n        \"dtype\": \"number\",\n        \"std\": 35.88243726178803,\n        \"min\": 23.9,\n        \"max\": 129.52,\n        \"num_unique_values\": 14,\n        \"samples\": [\n          42.82,\n          36.11\n        ],\n        \"semantic_type\": \"\",\n        \"description\": \"\"\n      }\n    },\n    {\n      \"column\": \"material\",\n      \"properties\": {\n        \"dtype\": \"category\",\n        \"num_unique_values\": 6,\n        \"samples\": [\n          \"Synthetic\",\n          \"Wool\"\n        ],\n        \"semantic_type\": \"\",\n        \"description\": \"\"\n      }\n    },\n    {\n      \"column\": \"sales_count\",\n      \"properties\": {\n        \"dtype\": \"number\",\n        \"std\": 152,\n        \"min\": 50,\n        \"max\": 461,\n        \"num_unique_values\": 14,\n        \"samples\": [\n          335,\n          62\n        ],\n        \"semantic_type\": \"\",\n        \"description\": \"\"\n      }\n    },\n    {\n      \"column\": \"reviews_count\",\n      \"properties\": {\n        \"dtype\": \"number\",\n        \"std\": 27,\n        \"min\": 25,\n        \"max\": 97,\n        \"num_unique_values\": 13,\n        \"samples\": [\n          38,\n          33\n        ],\n        \"semantic_type\": \"\",\n        \"description\": \"\"\n      }\n    },\n    {\n      \"column\": \"average_rating\",\n      \"properties\": {\n        \"dtype\": \"number\",\n        \"std\": 0.5250327043712045,\n        \"min\": 3.2,\n        \"max\": 4.9,\n        \"num_unique_values\": 11,\n        \"samples\": [\n          4.7,\n          4.9\n        ],\n        \"semantic_type\": \"\",\n        \"description\": \"\"\n      }\n    },\n    {\n      \"column\": \"out_of_stock_times\",\n      \"properties\": {\n        \"dtype\": \"number\",\n        \"std\": 1,\n        \"min\": 2,\n        \"max\": 6,\n        \"num_unique_values\": 5,\n        \"samples\": [\n          6,\n          5\n        ],\n        \"semantic_type\": \"\",\n        \"description\": \"\"\n      }\n    },\n    {\n      \"column\": \"brand\",\n      \"properties\": {\n        \"dtype\": \"category\",\n        \"num_unique_values\": 1,\n        \"samples\": [\n          \"ZARA\"\n        ],\n        \"semantic_type\": \"\",\n        \"description\": \"\"\n      }\n    },\n    {\n      \"column\": \"discount\",\n      \"properties\": {\n        \"dtype\": \"number\",\n        \"std\": 0.07272180923534245,\n        \"min\": 0.0,\n        \"max\": 0.2,\n        \"num_unique_values\": 5,\n        \"samples\": [\n          0.0\n        ],\n        \"semantic_type\": \"\",\n        \"description\": \"\"\n      }\n    }\n  ]\n}"
            }
          },
          "metadata": {},
          "execution_count": 6
        }
      ],
      "source": [
        "data.duplicated().sum()\n",
        "data"
      ]
    },
    {
      "cell_type": "code",
      "execution_count": null,
      "metadata": {
        "colab": {
          "base_uri": "https://localhost:8080/",
          "height": 320
        },
        "id": "d1jaauxBAzzP",
        "outputId": "f278ec89-5a29-4e20-dd0f-f341120f14d5"
      },
      "outputs": [
        {
          "output_type": "execute_result",
          "data": {
            "text/plain": [
              "       product_id       price  sales_count  reviews_count  average_rating  \\\n",
              "count     14.0000   14.000000    14.000000      14.000000       14.000000   \n",
              "mean    1007.5000   81.255000   259.857143      63.357143        4.078571   \n",
              "std        4.1833   35.882437   152.327005      27.497153        0.525033   \n",
              "min     1001.0000   23.900000    50.000000      25.000000        3.200000   \n",
              "25%     1004.2500   49.705000    84.250000      36.500000        3.625000   \n",
              "50%     1007.5000   89.340000   318.000000      66.500000        4.050000   \n",
              "75%     1010.7500  108.395000   347.750000      90.750000        4.550000   \n",
              "max     1014.0000  129.520000   461.000000      97.000000        4.900000   \n",
              "\n",
              "       out_of_stock_times   discount  \n",
              "count           14.000000  14.000000  \n",
              "mean             4.285714   0.075000  \n",
              "std              1.382783   0.072722  \n",
              "min              2.000000   0.000000  \n",
              "25%              3.000000   0.000000  \n",
              "50%              4.000000   0.075000  \n",
              "75%              5.750000   0.100000  \n",
              "max              6.000000   0.200000  "
            ],
            "text/html": [
              "\n",
              "  <div id=\"df-cc2045e6-6a96-441a-bafd-8f532bf59950\" class=\"colab-df-container\">\n",
              "    <div>\n",
              "<style scoped>\n",
              "    .dataframe tbody tr th:only-of-type {\n",
              "        vertical-align: middle;\n",
              "    }\n",
              "\n",
              "    .dataframe tbody tr th {\n",
              "        vertical-align: top;\n",
              "    }\n",
              "\n",
              "    .dataframe thead th {\n",
              "        text-align: right;\n",
              "    }\n",
              "</style>\n",
              "<table border=\"1\" class=\"dataframe\">\n",
              "  <thead>\n",
              "    <tr style=\"text-align: right;\">\n",
              "      <th></th>\n",
              "      <th>product_id</th>\n",
              "      <th>price</th>\n",
              "      <th>sales_count</th>\n",
              "      <th>reviews_count</th>\n",
              "      <th>average_rating</th>\n",
              "      <th>out_of_stock_times</th>\n",
              "      <th>discount</th>\n",
              "    </tr>\n",
              "  </thead>\n",
              "  <tbody>\n",
              "    <tr>\n",
              "      <th>count</th>\n",
              "      <td>14.0000</td>\n",
              "      <td>14.000000</td>\n",
              "      <td>14.000000</td>\n",
              "      <td>14.000000</td>\n",
              "      <td>14.000000</td>\n",
              "      <td>14.000000</td>\n",
              "      <td>14.000000</td>\n",
              "    </tr>\n",
              "    <tr>\n",
              "      <th>mean</th>\n",
              "      <td>1007.5000</td>\n",
              "      <td>81.255000</td>\n",
              "      <td>259.857143</td>\n",
              "      <td>63.357143</td>\n",
              "      <td>4.078571</td>\n",
              "      <td>4.285714</td>\n",
              "      <td>0.075000</td>\n",
              "    </tr>\n",
              "    <tr>\n",
              "      <th>std</th>\n",
              "      <td>4.1833</td>\n",
              "      <td>35.882437</td>\n",
              "      <td>152.327005</td>\n",
              "      <td>27.497153</td>\n",
              "      <td>0.525033</td>\n",
              "      <td>1.382783</td>\n",
              "      <td>0.072722</td>\n",
              "    </tr>\n",
              "    <tr>\n",
              "      <th>min</th>\n",
              "      <td>1001.0000</td>\n",
              "      <td>23.900000</td>\n",
              "      <td>50.000000</td>\n",
              "      <td>25.000000</td>\n",
              "      <td>3.200000</td>\n",
              "      <td>2.000000</td>\n",
              "      <td>0.000000</td>\n",
              "    </tr>\n",
              "    <tr>\n",
              "      <th>25%</th>\n",
              "      <td>1004.2500</td>\n",
              "      <td>49.705000</td>\n",
              "      <td>84.250000</td>\n",
              "      <td>36.500000</td>\n",
              "      <td>3.625000</td>\n",
              "      <td>3.000000</td>\n",
              "      <td>0.000000</td>\n",
              "    </tr>\n",
              "    <tr>\n",
              "      <th>50%</th>\n",
              "      <td>1007.5000</td>\n",
              "      <td>89.340000</td>\n",
              "      <td>318.000000</td>\n",
              "      <td>66.500000</td>\n",
              "      <td>4.050000</td>\n",
              "      <td>4.000000</td>\n",
              "      <td>0.075000</td>\n",
              "    </tr>\n",
              "    <tr>\n",
              "      <th>75%</th>\n",
              "      <td>1010.7500</td>\n",
              "      <td>108.395000</td>\n",
              "      <td>347.750000</td>\n",
              "      <td>90.750000</td>\n",
              "      <td>4.550000</td>\n",
              "      <td>5.750000</td>\n",
              "      <td>0.100000</td>\n",
              "    </tr>\n",
              "    <tr>\n",
              "      <th>max</th>\n",
              "      <td>1014.0000</td>\n",
              "      <td>129.520000</td>\n",
              "      <td>461.000000</td>\n",
              "      <td>97.000000</td>\n",
              "      <td>4.900000</td>\n",
              "      <td>6.000000</td>\n",
              "      <td>0.200000</td>\n",
              "    </tr>\n",
              "  </tbody>\n",
              "</table>\n",
              "</div>\n",
              "    <div class=\"colab-df-buttons\">\n",
              "\n",
              "  <div class=\"colab-df-container\">\n",
              "    <button class=\"colab-df-convert\" onclick=\"convertToInteractive('df-cc2045e6-6a96-441a-bafd-8f532bf59950')\"\n",
              "            title=\"Convert this dataframe to an interactive table.\"\n",
              "            style=\"display:none;\">\n",
              "\n",
              "  <svg xmlns=\"http://www.w3.org/2000/svg\" height=\"24px\" viewBox=\"0 -960 960 960\">\n",
              "    <path d=\"M120-120v-720h720v720H120Zm60-500h600v-160H180v160Zm220 220h160v-160H400v160Zm0 220h160v-160H400v160ZM180-400h160v-160H180v160Zm440 0h160v-160H620v160ZM180-180h160v-160H180v160Zm440 0h160v-160H620v160Z\"/>\n",
              "  </svg>\n",
              "    </button>\n",
              "\n",
              "  <style>\n",
              "    .colab-df-container {\n",
              "      display:flex;\n",
              "      gap: 12px;\n",
              "    }\n",
              "\n",
              "    .colab-df-convert {\n",
              "      background-color: #E8F0FE;\n",
              "      border: none;\n",
              "      border-radius: 50%;\n",
              "      cursor: pointer;\n",
              "      display: none;\n",
              "      fill: #1967D2;\n",
              "      height: 32px;\n",
              "      padding: 0 0 0 0;\n",
              "      width: 32px;\n",
              "    }\n",
              "\n",
              "    .colab-df-convert:hover {\n",
              "      background-color: #E2EBFA;\n",
              "      box-shadow: 0px 1px 2px rgba(60, 64, 67, 0.3), 0px 1px 3px 1px rgba(60, 64, 67, 0.15);\n",
              "      fill: #174EA6;\n",
              "    }\n",
              "\n",
              "    .colab-df-buttons div {\n",
              "      margin-bottom: 4px;\n",
              "    }\n",
              "\n",
              "    [theme=dark] .colab-df-convert {\n",
              "      background-color: #3B4455;\n",
              "      fill: #D2E3FC;\n",
              "    }\n",
              "\n",
              "    [theme=dark] .colab-df-convert:hover {\n",
              "      background-color: #434B5C;\n",
              "      box-shadow: 0px 1px 3px 1px rgba(0, 0, 0, 0.15);\n",
              "      filter: drop-shadow(0px 1px 2px rgba(0, 0, 0, 0.3));\n",
              "      fill: #FFFFFF;\n",
              "    }\n",
              "  </style>\n",
              "\n",
              "    <script>\n",
              "      const buttonEl =\n",
              "        document.querySelector('#df-cc2045e6-6a96-441a-bafd-8f532bf59950 button.colab-df-convert');\n",
              "      buttonEl.style.display =\n",
              "        google.colab.kernel.accessAllowed ? 'block' : 'none';\n",
              "\n",
              "      async function convertToInteractive(key) {\n",
              "        const element = document.querySelector('#df-cc2045e6-6a96-441a-bafd-8f532bf59950');\n",
              "        const dataTable =\n",
              "          await google.colab.kernel.invokeFunction('convertToInteractive',\n",
              "                                                    [key], {});\n",
              "        if (!dataTable) return;\n",
              "\n",
              "        const docLinkHtml = 'Like what you see? Visit the ' +\n",
              "          '<a target=\"_blank\" href=https://colab.research.google.com/notebooks/data_table.ipynb>data table notebook</a>'\n",
              "          + ' to learn more about interactive tables.';\n",
              "        element.innerHTML = '';\n",
              "        dataTable['output_type'] = 'display_data';\n",
              "        await google.colab.output.renderOutput(dataTable, element);\n",
              "        const docLink = document.createElement('div');\n",
              "        docLink.innerHTML = docLinkHtml;\n",
              "        element.appendChild(docLink);\n",
              "      }\n",
              "    </script>\n",
              "  </div>\n",
              "\n",
              "\n",
              "<div id=\"df-bd5ef530-a1fa-4dcd-893c-3dd9b264ab40\">\n",
              "  <button class=\"colab-df-quickchart\" onclick=\"quickchart('df-bd5ef530-a1fa-4dcd-893c-3dd9b264ab40')\"\n",
              "            title=\"Suggest charts\"\n",
              "            style=\"display:none;\">\n",
              "\n",
              "<svg xmlns=\"http://www.w3.org/2000/svg\" height=\"24px\"viewBox=\"0 0 24 24\"\n",
              "     width=\"24px\">\n",
              "    <g>\n",
              "        <path d=\"M19 3H5c-1.1 0-2 .9-2 2v14c0 1.1.9 2 2 2h14c1.1 0 2-.9 2-2V5c0-1.1-.9-2-2-2zM9 17H7v-7h2v7zm4 0h-2V7h2v10zm4 0h-2v-4h2v4z\"/>\n",
              "    </g>\n",
              "</svg>\n",
              "  </button>\n",
              "\n",
              "<style>\n",
              "  .colab-df-quickchart {\n",
              "      --bg-color: #E8F0FE;\n",
              "      --fill-color: #1967D2;\n",
              "      --hover-bg-color: #E2EBFA;\n",
              "      --hover-fill-color: #174EA6;\n",
              "      --disabled-fill-color: #AAA;\n",
              "      --disabled-bg-color: #DDD;\n",
              "  }\n",
              "\n",
              "  [theme=dark] .colab-df-quickchart {\n",
              "      --bg-color: #3B4455;\n",
              "      --fill-color: #D2E3FC;\n",
              "      --hover-bg-color: #434B5C;\n",
              "      --hover-fill-color: #FFFFFF;\n",
              "      --disabled-bg-color: #3B4455;\n",
              "      --disabled-fill-color: #666;\n",
              "  }\n",
              "\n",
              "  .colab-df-quickchart {\n",
              "    background-color: var(--bg-color);\n",
              "    border: none;\n",
              "    border-radius: 50%;\n",
              "    cursor: pointer;\n",
              "    display: none;\n",
              "    fill: var(--fill-color);\n",
              "    height: 32px;\n",
              "    padding: 0;\n",
              "    width: 32px;\n",
              "  }\n",
              "\n",
              "  .colab-df-quickchart:hover {\n",
              "    background-color: var(--hover-bg-color);\n",
              "    box-shadow: 0 1px 2px rgba(60, 64, 67, 0.3), 0 1px 3px 1px rgba(60, 64, 67, 0.15);\n",
              "    fill: var(--button-hover-fill-color);\n",
              "  }\n",
              "\n",
              "  .colab-df-quickchart-complete:disabled,\n",
              "  .colab-df-quickchart-complete:disabled:hover {\n",
              "    background-color: var(--disabled-bg-color);\n",
              "    fill: var(--disabled-fill-color);\n",
              "    box-shadow: none;\n",
              "  }\n",
              "\n",
              "  .colab-df-spinner {\n",
              "    border: 2px solid var(--fill-color);\n",
              "    border-color: transparent;\n",
              "    border-bottom-color: var(--fill-color);\n",
              "    animation:\n",
              "      spin 1s steps(1) infinite;\n",
              "  }\n",
              "\n",
              "  @keyframes spin {\n",
              "    0% {\n",
              "      border-color: transparent;\n",
              "      border-bottom-color: var(--fill-color);\n",
              "      border-left-color: var(--fill-color);\n",
              "    }\n",
              "    20% {\n",
              "      border-color: transparent;\n",
              "      border-left-color: var(--fill-color);\n",
              "      border-top-color: var(--fill-color);\n",
              "    }\n",
              "    30% {\n",
              "      border-color: transparent;\n",
              "      border-left-color: var(--fill-color);\n",
              "      border-top-color: var(--fill-color);\n",
              "      border-right-color: var(--fill-color);\n",
              "    }\n",
              "    40% {\n",
              "      border-color: transparent;\n",
              "      border-right-color: var(--fill-color);\n",
              "      border-top-color: var(--fill-color);\n",
              "    }\n",
              "    60% {\n",
              "      border-color: transparent;\n",
              "      border-right-color: var(--fill-color);\n",
              "    }\n",
              "    80% {\n",
              "      border-color: transparent;\n",
              "      border-right-color: var(--fill-color);\n",
              "      border-bottom-color: var(--fill-color);\n",
              "    }\n",
              "    90% {\n",
              "      border-color: transparent;\n",
              "      border-bottom-color: var(--fill-color);\n",
              "    }\n",
              "  }\n",
              "</style>\n",
              "\n",
              "  <script>\n",
              "    async function quickchart(key) {\n",
              "      const quickchartButtonEl =\n",
              "        document.querySelector('#' + key + ' button');\n",
              "      quickchartButtonEl.disabled = true;  // To prevent multiple clicks.\n",
              "      quickchartButtonEl.classList.add('colab-df-spinner');\n",
              "      try {\n",
              "        const charts = await google.colab.kernel.invokeFunction(\n",
              "            'suggestCharts', [key], {});\n",
              "      } catch (error) {\n",
              "        console.error('Error during call to suggestCharts:', error);\n",
              "      }\n",
              "      quickchartButtonEl.classList.remove('colab-df-spinner');\n",
              "      quickchartButtonEl.classList.add('colab-df-quickchart-complete');\n",
              "    }\n",
              "    (() => {\n",
              "      let quickchartButtonEl =\n",
              "        document.querySelector('#df-bd5ef530-a1fa-4dcd-893c-3dd9b264ab40 button');\n",
              "      quickchartButtonEl.style.display =\n",
              "        google.colab.kernel.accessAllowed ? 'block' : 'none';\n",
              "    })();\n",
              "  </script>\n",
              "</div>\n",
              "\n",
              "    </div>\n",
              "  </div>\n"
            ],
            "application/vnd.google.colaboratory.intrinsic+json": {
              "type": "dataframe",
              "summary": "{\n  \"name\": \"data\",\n  \"rows\": 8,\n  \"fields\": [\n    {\n      \"column\": \"product_id\",\n      \"properties\": {\n        \"dtype\": \"number\",\n        \"std\": 462.19702951138515,\n        \"min\": 4.183300132670378,\n        \"max\": 1014.0,\n        \"num_unique_values\": 7,\n        \"samples\": [\n          14.0,\n          1007.5,\n          1010.75\n        ],\n        \"semantic_type\": \"\",\n        \"description\": \"\"\n      }\n    },\n    {\n      \"column\": \"price\",\n      \"properties\": {\n        \"dtype\": \"number\",\n        \"std\": 41.84427631487181,\n        \"min\": 14.0,\n        \"max\": 129.52,\n        \"num_unique_values\": 8,\n        \"samples\": [\n          81.25500000000001,\n          89.34,\n          14.0\n        ],\n        \"semantic_type\": \"\",\n        \"description\": \"\"\n      }\n    },\n    {\n      \"column\": \"sales_count\",\n      \"properties\": {\n        \"dtype\": \"number\",\n        \"std\": 160.03329231157716,\n        \"min\": 14.0,\n        \"max\": 461.0,\n        \"num_unique_values\": 8,\n        \"samples\": [\n          259.85714285714283,\n          318.0,\n          14.0\n        ],\n        \"semantic_type\": \"\",\n        \"description\": \"\"\n      }\n    },\n    {\n      \"column\": \"reviews_count\",\n      \"properties\": {\n        \"dtype\": \"number\",\n        \"std\": 31.34323070571102,\n        \"min\": 14.0,\n        \"max\": 97.0,\n        \"num_unique_values\": 8,\n        \"samples\": [\n          63.357142857142854,\n          66.5,\n          14.0\n        ],\n        \"semantic_type\": \"\",\n        \"description\": \"\"\n      }\n    },\n    {\n      \"column\": \"average_rating\",\n      \"properties\": {\n        \"dtype\": \"number\",\n        \"std\": 3.927494689842709,\n        \"min\": 0.5250327043712045,\n        \"max\": 14.0,\n        \"num_unique_values\": 8,\n        \"samples\": [\n          4.078571428571428,\n          4.05,\n          14.0\n        ],\n        \"semantic_type\": \"\",\n        \"description\": \"\"\n      }\n    },\n    {\n      \"column\": \"out_of_stock_times\",\n      \"properties\": {\n        \"dtype\": \"number\",\n        \"std\": 3.9665579326649247,\n        \"min\": 1.3827826698682306,\n        \"max\": 14.0,\n        \"num_unique_values\": 8,\n        \"samples\": [\n          4.285714285714286,\n          4.0,\n          14.0\n        ],\n        \"semantic_type\": \"\",\n        \"description\": \"\"\n      }\n    },\n    {\n      \"column\": \"discount\",\n      \"properties\": {\n        \"dtype\": \"number\",\n        \"std\": 4.9237450521207276,\n        \"min\": 0.0,\n        \"max\": 14.0,\n        \"num_unique_values\": 7,\n        \"samples\": [\n          14.0,\n          0.07500000000000002,\n          0.1\n        ],\n        \"semantic_type\": \"\",\n        \"description\": \"\"\n      }\n    }\n  ]\n}"
            }
          },
          "metadata": {},
          "execution_count": 7
        }
      ],
      "source": [
        "data.describe()"
      ]
    },
    {
      "cell_type": "code",
      "execution_count": null,
      "metadata": {
        "colab": {
          "base_uri": "https://localhost:8080/",
          "height": 466
        },
        "id": "kIWMp5FiBKJQ",
        "outputId": "f59f9192-c913-46ce-afb9-f413a8754646"
      },
      "outputs": [
        {
          "output_type": "execute_result",
          "data": {
            "text/plain": [
              "<Axes: xlabel='price', ylabel='Density'>"
            ]
          },
          "metadata": {},
          "execution_count": 8
        },
        {
          "output_type": "display_data",
          "data": {
            "text/plain": [
              "<Figure size 640x480 with 1 Axes>"
            ],
            "image/png": "[encoded data removed]"
          },
          "metadata": {}
        }
      ],
      "source": [
        "\n",
        "sns.distplot(data['price'])"
      ]
    },
    {
      "cell_type": "code",
      "execution_count": null,
      "metadata": {
        "colab": {
          "base_uri": "https://localhost:8080/",
          "height": 496
        },
        "id": "L1cu8oxACHb9",
        "outputId": "102b8435-9d05-4716-c404-2e901fab6556"
      },
      "outputs": [
        {
          "output_type": "execute_result",
          "data": {
            "text/plain": [
              "<Axes: xlabel='color'>"
            ]
          },
          "metadata": {},
          "execution_count": 9
        },
        {
          "output_type": "display_data",
          "data": {
            "text/plain": [
              "<Figure size 640x480 with 1 Axes>"
            ],
            "image/png": "[encoded data removed]"
          },
          "metadata": {}
        }
      ],
      "source": [
        "data['color'].value_counts().plot(kind='bar')"
      ]
    },
    {
      "cell_type": "code",
      "execution_count": null,
      "metadata": {
        "colab": {
          "base_uri": "https://localhost:8080/",
          "height": 511
        },
        "id": "0kv3jmjeCRVh",
        "outputId": "b2f43577-ed94-496a-81cb-6e02fe338078"
      },
      "outputs": [
        {
          "output_type": "execute_result",
          "data": {
            "text/plain": [
              "<Axes: xlabel='season'>"
            ]
          },
          "metadata": {},
          "execution_count": 10
        },
        {
          "output_type": "display_data",
          "data": {
            "text/plain": [
              "<Figure size 640x480 with 1 Axes>"
            ],
            "image/png": "[encoded data removed]"
          },
          "metadata": {}
        }
      ],
      "source": [
        "data['season'].value_counts().plot(kind='bar')"
      ]
    },
    {
      "cell_type": "code",
      "execution_count": null,
      "metadata": {
        "colab": {
          "base_uri": "https://localhost:8080/",
          "height": 493
        },
        "id": "1vN_KmluCa7x",
        "outputId": "0a9acddc-f0c2-410c-9770-0f6753379efb"
      },
      "outputs": [
        {
          "output_type": "execute_result",
          "data": {
            "text/plain": [
              "<Axes: xlabel='age_group'>"
            ]
          },
          "metadata": {},
          "execution_count": 11
        },
        {
          "output_type": "display_data",
          "data": {
            "text/plain": [
              "<Figure size 640x480 with 1 Axes>"
            ],
            "image/png": "[encoded data removed]"
          },
          "metadata": {}
        }
      ],
      "source": [
        "data['age_group'].value_counts().plot(kind='bar')"
      ]
    },
    {
      "cell_type": "code",
      "execution_count": null,
      "metadata": {
        "colab": {
          "base_uri": "https://localhost:8080/",
          "height": 475
        },
        "id": "nbWc8ixtDnRQ",
        "outputId": "f6df1f99-86dc-4ef3-b5f8-af2111da5438"
      },
      "outputs": [
        {
          "output_type": "execute_result",
          "data": {
            "text/plain": [
              "<Axes: xlabel='average_rating'>"
            ]
          },
          "metadata": {},
          "execution_count": 12
        },
        {
          "output_type": "display_data",
          "data": {
            "text/plain": [
              "<Figure size 640x480 with 1 Axes>"
            ],
            "image/png": "[encoded data removed]"
          },
          "metadata": {}
        }
      ],
      "source": [
        "data['average_rating'].value_counts().plot(kind='bar')"
      ]
    },
    {
      "cell_type": "code",
      "execution_count": null,
      "metadata": {
        "colab": {
          "base_uri": "https://localhost:8080/",
          "height": 472
        },
        "id": "KHxS5LcVD-nm",
        "outputId": "af4f3cf7-88f1-43bd-ab63-88c60ee18bbb"
      },
      "outputs": [
        {
          "output_type": "execute_result",
          "data": {
            "text/plain": [
              "<Axes: xlabel='age_group', ylabel='color'>"
            ]
          },
          "metadata": {},
          "execution_count": 13
        },
        {
          "output_type": "display_data",
          "data": {
            "text/plain": [
              "<Figure size 640x480 with 1 Axes>"
            ],
            "image/png": "[encoded data removed]"
          },
          "metadata": {}
        }
      ],
      "source": [
        "sns.barplot(x=data['age_group'],y=data['color' ],hue=data['age_group'])\n"
      ]
    },
    {
      "cell_type": "code",
      "execution_count": null,
      "metadata": {
        "colab": {
          "base_uri": "https://localhost:8080/",
          "height": 598
        },
        "id": "-MeQ6AlHESoW",
        "outputId": "d0b9d23c-9fca-4a0b-846d-f884636b643b"
      },
      "outputs": [
        {
          "output_type": "execute_result",
          "data": {
            "text/plain": [
              "([0, 1, 2, 3, 4],\n",
              " [Text(0, 0, 'Spring'),\n",
              "  Text(1, 0, 'Summer'),\n",
              "  Text(2, 0, 'All'),\n",
              "  Text(3, 0, 'Winter'),\n",
              "  Text(4, 0, 'Autumn')])"
            ]
          },
          "metadata": {},
          "execution_count": 14
        },
        {
          "output_type": "display_data",
          "data": {
            "text/plain": [
              "<Figure size 640x480 with 1 Axes>"
            ],
            "image/png": "[encoded data removed]"
          },
          "metadata": {}
        }
      ],
      "source": [
        "sns.barplot(x=data['season'],y=data['price' ],hue=data['season'])\n",
        "plt.xticks(rotation=90)"
      ]
    },
    {
      "cell_type": "code",
      "execution_count": null,
      "metadata": {
        "colab": {
          "base_uri": "https://localhost:8080/",
          "height": 525
        },
        "id": "IlCrbjDYEj2A",
        "outputId": "d474316e-110d-4545-976a-962ddbf5969f"
      },
      "outputs": [
        {
          "output_type": "execute_result",
          "data": {
            "text/plain": [
              "<Axes: xlabel='pattern'>"
            ]
          },
          "metadata": {},
          "execution_count": 15
        },
        {
          "output_type": "display_data",
          "data": {
            "text/plain": [
              "<Figure size 640x480 with 1 Axes>"
            ],
            "image/png": "[encoded data removed]"
          },
          "metadata": {}
        }
      ],
      "source": [
        "data['pattern'].value_counts().plot(kind='bar')"
      ]
    },
    {
      "cell_type": "code",
      "execution_count": null,
      "metadata": {
        "colab": {
          "base_uri": "https://localhost:8080/",
          "height": 518
        },
        "id": "qbrgIGdAE0kO",
        "outputId": "731fb5bc-07fb-44db-c972-81c43458322e"
      },
      "outputs": [
        {
          "output_type": "execute_result",
          "data": {
            "text/plain": [
              "<Axes: xlabel='material'>"
            ]
          },
          "metadata": {},
          "execution_count": 16
        },
        {
          "output_type": "display_data",
          "data": {
            "text/plain": [
              "<Figure size 640x480 with 1 Axes>"
            ],
            "image/png": "[encoded data removed]"
          },
          "metadata": {}
        }
      ],
      "source": [
        "data['material'].value_counts().plot(kind='bar')"
      ]
    },
    {
      "cell_type": "markdown",
      "metadata": {
        "id": "I_c_RFcEHeya"
      },
      "source": []
    },
    {
      "cell_type": "code",
      "execution_count": null,
      "metadata": {
        "id": "Bl_AATkgHYC2"
      },
      "outputs": [],
      "source": [
        "from sklearn.preprocessing import LabelEncoder\n",
        "from sklearn.model_selection import train_test_split\n",
        "from xgboost import XGBRegressor\n",
        "from sklearn import metrics"
      ]
    },
    {
      "cell_type": "code",
      "execution_count": null,
      "metadata": {
        "colab": {
          "base_uri": "https://localhost:8080/"
        },
        "id": "AM0ETwdQHeT_",
        "outputId": "93674da6-4bff-42c7-f1c5-26bcec3d9bb3"
      },
      "outputs": [
        {
          "output_type": "stream",
          "name": "stdout",
          "text": [
            "                    product_id     price  sales_count  reviews_count  \\\n",
            "product_id            1.000000 -0.174647     0.399204       0.170860   \n",
            "price                -0.174647  1.000000     0.126546      -0.555946   \n",
            "sales_count           0.399204  0.126546     1.000000      -0.014569   \n",
            "reviews_count         0.170860 -0.555946    -0.014569       1.000000   \n",
            "average_rating       -0.127833 -0.285479    -0.238188       0.114595   \n",
            "out_of_stock_times    0.106383 -0.245849     0.258037      -0.334677   \n",
            "discount             -0.018964 -0.034630     0.153117       0.097133   \n",
            "\n",
            "                    average_rating  out_of_stock_times  discount  \n",
            "product_id               -0.127833            0.106383 -0.018964  \n",
            "price                    -0.285479           -0.245849 -0.034630  \n",
            "sales_count              -0.238188            0.258037  0.153117  \n",
            "reviews_count             0.114595           -0.334677  0.097133  \n",
            "average_rating            1.000000           -0.022704  0.589293  \n",
            "out_of_stock_times       -0.022704            1.000000 -0.152992  \n",
            "discount                  0.589293           -0.152992  1.000000  \n"
          ]
        }
      ],
      "source": [
        "\n",
        "numeric_data = data.select_dtypes(include=[float, int])\n",
        "\n",
        "correlation_matrix = numeric_data.corr()\n",
        "\n",
        "print(correlation_matrix)\n"
      ]
    },
    {
      "cell_type": "code",
      "execution_count": null,
      "metadata": {
        "colab": {
          "base_uri": "https://localhost:8080/",
          "height": 644
        },
        "id": "MJvAG7B9HvBG",
        "outputId": "23849a0a-da76-42d9-f919-f2125ebc6ba4"
      },
      "outputs": [
        {
          "output_type": "execute_result",
          "data": {
            "text/plain": [
              "<Axes: >"
            ]
          },
          "metadata": {},
          "execution_count": 19
        },
        {
          "output_type": "display_data",
          "data": {
            "text/plain": [
              "<Figure size 1000x800 with 2 Axes>"
            ],
            "image/png": "[encoded data removed]"
          },
          "metadata": {}
        }
      ],
      "source": [
        "plt.figure(figsize=(10, 8))\n",
        "sns.heatmap(correlation_matrix, annot=True, cmap='coolwarm')"
      ]
    },
    {
      "cell_type": "code",
      "execution_count": null,
      "metadata": {
        "id": "unOrjqTkH3fM"
      },
      "outputs": [],
      "source": [
        "encoder = LabelEncoder()"
      ]
    },
    {
      "cell_type": "code",
      "execution_count": null,
      "metadata": {
        "id": "CAtxIf2iIOXT"
      },
      "outputs": [],
      "source": [
        "data['gender'] = encoder.fit_transform(data['gender'])"
      ]
    },
    {
      "cell_type": "code",
      "execution_count": null,
      "metadata": {
        "id": "fnLYnEE6IckR"
      },
      "outputs": [],
      "source": [
        "data['material'] = encoder.fit_transform(data['material'])\n"
      ]
    },
    {
      "cell_type": "code",
      "execution_count": null,
      "metadata": {
        "id": "4RBiKWHPInnD"
      },
      "outputs": [],
      "source": [
        "data['color'] = encoder.fit_transform(data['color'])\n",
        "data['product_name'] = encoder.fit_transform(data['product_name'])\n",
        "data['season'] = encoder.fit_transform(data['season'])\n",
        "data['pattern'] = encoder.fit_transform(data['pattern'])\n",
        "data['brand'] = encoder.fit_transform(data['brand'])\n",
        "data['age_group'] = encoder.fit_transform(data['age_group'])\n"
      ]
    },
    {
      "cell_type": "code",
      "execution_count": null,
      "metadata": {
        "id": "FoTLAlz5Isof"
      },
      "outputs": [],
      "source": [
        "data['category'] = encoder.fit_transform(data['category'])\n"
      ]
    },
    {
      "cell_type": "code",
      "execution_count": null,
      "metadata": {
        "colab": {
          "base_uri": "https://localhost:8080/",
          "height": 226
        },
        "id": "E-veCWqzI7dF",
        "outputId": "c88d6e8d-9274-447f-fc2e-3a382a0b7a35"
      },
      "outputs": [
        {
          "output_type": "execute_result",
          "data": {
            "text/plain": [
              "   product_id  product_name  gender  category  pattern  color  age_group  \\\n",
              "0        1001             1       1         4        0      4          1   \n",
              "1        1002             3       1         2        3      0          0   \n",
              "2        1003             9       0         1        0      1          0   \n",
              "3        1004             8       1         6        2      4          1   \n",
              "4        1005             4       1         4        2      0          2   \n",
              "\n",
              "   season   price  material  sales_count  reviews_count  average_rating  \\\n",
              "0       2   70.36         3           75             65             4.9   \n",
              "1       3   91.59         5          296             25             3.5   \n",
              "2       0  129.52         5           50             32             4.3   \n",
              "3       0  116.01         0          435             73             4.6   \n",
              "4       4  125.48         4           79             36             3.6   \n",
              "\n",
              "   out_of_stock_times  brand  discount  \n",
              "0                   3      0      0.20  \n",
              "1                   6      0      0.00  \n",
              "2                   4      0      0.05  \n",
              "3                   3      0      0.10  \n",
              "4                   4      0      0.00  "
            ],
            "text/html": [
              "\n",
              "  <div id=\"df-94485915-1c3f-4233-89b6-47b0dec1adc5\" class=\"colab-df-container\">\n",
              "    <div>\n",
              "<style scoped>\n",
              "    .dataframe tbody tr th:only-of-type {\n",
              "        vertical-align: middle;\n",
              "    }\n",
              "\n",
              "    .dataframe tbody tr th {\n",
              "        vertical-align: top;\n",
              "    }\n",
              "\n",
              "    .dataframe thead th {\n",
              "        text-align: right;\n",
              "    }\n",
              "</style>\n",
              "<table border=\"1\" class=\"dataframe\">\n",
              "  <thead>\n",
              "    <tr style=\"text-align: right;\">\n",
              "      <th></th>\n",
              "      <th>product_id</th>\n",
              "      <th>product_name</th>\n",
              "      <th>gender</th>\n",
              "      <th>category</th>\n",
              "      <th>pattern</th>\n",
              "      <th>color</th>\n",
              "      <th>age_group</th>\n",
              "      <th>season</th>\n",
              "      <th>price</th>\n",
              "      <th>material</th>\n",
              "      <th>sales_count</th>\n",
              "      <th>reviews_count</th>\n",
              "      <th>average_rating</th>\n",
              "      <th>out_of_stock_times</th>\n",
              "      <th>brand</th>\n",
              "      <th>discount</th>\n",
              "    </tr>\n",
              "  </thead>\n",
              "  <tbody>\n",
              "    <tr>\n",
              "      <th>0</th>\n",
              "      <td>1001</td>\n",
              "      <td>1</td>\n",
              "      <td>1</td>\n",
              "      <td>4</td>\n",
              "      <td>0</td>\n",
              "      <td>4</td>\n",
              "      <td>1</td>\n",
              "      <td>2</td>\n",
              "      <td>70.36</td>\n",
              "      <td>3</td>\n",
              "      <td>75</td>\n",
              "      <td>65</td>\n",
              "      <td>4.9</td>\n",
              "      <td>3</td>\n",
              "      <td>0</td>\n",
              "      <td>0.20</td>\n",
              "    </tr>\n",
              "    <tr>\n",
              "      <th>1</th>\n",
              "      <td>1002</td>\n",
              "      <td>3</td>\n",
              "      <td>1</td>\n",
              "      <td>2</td>\n",
              "      <td>3</td>\n",
              "      <td>0</td>\n",
              "      <td>0</td>\n",
              "      <td>3</td>\n",
              "      <td>91.59</td>\n",
              "      <td>5</td>\n",
              "      <td>296</td>\n",
              "      <td>25</td>\n",
              "      <td>3.5</td>\n",
              "      <td>6</td>\n",
              "      <td>0</td>\n",
              "      <td>0.00</td>\n",
              "    </tr>\n",
              "    <tr>\n",
              "      <th>2</th>\n",
              "      <td>1003</td>\n",
              "      <td>9</td>\n",
              "      <td>0</td>\n",
              "      <td>1</td>\n",
              "      <td>0</td>\n",
              "      <td>1</td>\n",
              "      <td>0</td>\n",
              "      <td>0</td>\n",
              "      <td>129.52</td>\n",
              "      <td>5</td>\n",
              "      <td>50</td>\n",
              "      <td>32</td>\n",
              "      <td>4.3</td>\n",
              "      <td>4</td>\n",
              "      <td>0</td>\n",
              "      <td>0.05</td>\n",
              "    </tr>\n",
              "    <tr>\n",
              "      <th>3</th>\n",
              "      <td>1004</td>\n",
              "      <td>8</td>\n",
              "      <td>1</td>\n",
              "      <td>6</td>\n",
              "      <td>2</td>\n",
              "      <td>4</td>\n",
              "      <td>1</td>\n",
              "      <td>0</td>\n",
              "      <td>116.01</td>\n",
              "      <td>0</td>\n",
              "      <td>435</td>\n",
              "      <td>73</td>\n",
              "      <td>4.6</td>\n",
              "      <td>3</td>\n",
              "      <td>0</td>\n",
              "      <td>0.10</td>\n",
              "    </tr>\n",
              "    <tr>\n",
              "      <th>4</th>\n",
              "      <td>1005</td>\n",
              "      <td>4</td>\n",
              "      <td>1</td>\n",
              "      <td>4</td>\n",
              "      <td>2</td>\n",
              "      <td>0</td>\n",
              "      <td>2</td>\n",
              "      <td>4</td>\n",
              "      <td>125.48</td>\n",
              "      <td>4</td>\n",
              "      <td>79</td>\n",
              "      <td>36</td>\n",
              "      <td>3.6</td>\n",
              "      <td>4</td>\n",
              "      <td>0</td>\n",
              "      <td>0.00</td>\n",
              "    </tr>\n",
              "  </tbody>\n",
              "</table>\n",
              "</div>\n",
              "    <div class=\"colab-df-buttons\">\n",
              "\n",
              "  <div class=\"colab-df-container\">\n",
              "    <button class=\"colab-df-convert\" onclick=\"convertToInteractive('df-94485915-1c3f-4233-89b6-47b0dec1adc5')\"\n",
              "            title=\"Convert this dataframe to an interactive table.\"\n",
              "            style=\"display:none;\">\n",
              "\n",
              "  <svg xmlns=\"http://www.w3.org/2000/svg\" height=\"24px\" viewBox=\"0 -960 960 960\">\n",
              "    <path d=\"M120-120v-720h720v720H120Zm60-500h600v-160H180v160Zm220 220h160v-160H400v160Zm0 220h160v-160H400v160ZM180-400h160v-160H180v160Zm440 0h160v-160H620v160ZM180-180h160v-160H180v160Zm440 0h160v-160H620v160Z\"/>\n",
              "  </svg>\n",
              "    </button>\n",
              "\n",
              "  <style>\n",
              "    .colab-df-container {\n",
              "      display:flex;\n",
              "      gap: 12px;\n",
              "    }\n",
              "\n",
              "    .colab-df-convert {\n",
              "      background-color: #E8F0FE;\n",
              "      border: none;\n",
              "      border-radius: 50%;\n",
              "      cursor: pointer;\n",
              "      display: none;\n",
              "      fill: #1967D2;\n",
              "      height: 32px;\n",
              "      padding: 0 0 0 0;\n",
              "      width: 32px;\n",
              "    }\n",
              "\n",
              "    .colab-df-convert:hover {\n",
              "      background-color: #E2EBFA;\n",
              "      box-shadow: 0px 1px 2px rgba(60, 64, 67, 0.3), 0px 1px 3px 1px rgba(60, 64, 67, 0.15);\n",
              "      fill: #174EA6;\n",
              "    }\n",
              "\n",
              "    .colab-df-buttons div {\n",
              "      margin-bottom: 4px;\n",
              "    }\n",
              "\n",
              "    [theme=dark] .colab-df-convert {\n",
              "      background-color: #3B4455;\n",
              "      fill: #D2E3FC;\n",
              "    }\n",
              "\n",
              "    [theme=dark] .colab-df-convert:hover {\n",
              "      background-color: #434B5C;\n",
              "      box-shadow: 0px 1px 3px 1px rgba(0, 0, 0, 0.15);\n",
              "      filter: drop-shadow(0px 1px 2px rgba(0, 0, 0, 0.3));\n",
              "      fill: #FFFFFF;\n",
              "    }\n",
              "  </style>\n",
              "\n",
              "    <script>\n",
              "      const buttonEl =\n",
              "        document.querySelector('#df-94485915-1c3f-4233-89b6-47b0dec1adc5 button.colab-df-convert');\n",
              "      buttonEl.style.display =\n",
              "        google.colab.kernel.accessAllowed ? 'block' : 'none';\n",
              "\n",
              "      async function convertToInteractive(key) {\n",
              "        const element = document.querySelector('#df-94485915-1c3f-4233-89b6-47b0dec1adc5');\n",
              "        const dataTable =\n",
              "          await google.colab.kernel.invokeFunction('convertToInteractive',\n",
              "                                                    [key], {});\n",
              "        if (!dataTable) return;\n",
              "\n",
              "        const docLinkHtml = 'Like what you see? Visit the ' +\n",
              "          '<a target=\"_blank\" href=https://colab.research.google.com/notebooks/data_table.ipynb>data table notebook</a>'\n",
              "          + ' to learn more about interactive tables.';\n",
              "        element.innerHTML = '';\n",
              "        dataTable['output_type'] = 'display_data';\n",
              "        await google.colab.output.renderOutput(dataTable, element);\n",
              "        const docLink = document.createElement('div');\n",
              "        docLink.innerHTML = docLinkHtml;\n",
              "        element.appendChild(docLink);\n",
              "      }\n",
              "    </script>\n",
              "  </div>\n",
              "\n",
              "\n",
              "<div id=\"df-04f8be25-090e-44eb-898c-d01041c824bf\">\n",
              "  <button class=\"colab-df-quickchart\" onclick=\"quickchart('df-04f8be25-090e-44eb-898c-d01041c824bf')\"\n",
              "            title=\"Suggest charts\"\n",
              "            style=\"display:none;\">\n",
              "\n",
              "<svg xmlns=\"http://www.w3.org/2000/svg\" height=\"24px\"viewBox=\"0 0 24 24\"\n",
              "     width=\"24px\">\n",
              "    <g>\n",
              "        <path d=\"M19 3H5c-1.1 0-2 .9-2 2v14c0 1.1.9 2 2 2h14c1.1 0 2-.9 2-2V5c0-1.1-.9-2-2-2zM9 17H7v-7h2v7zm4 0h-2V7h2v10zm4 0h-2v-4h2v4z\"/>\n",
              "    </g>\n",
              "</svg>\n",
              "  </button>\n",
              "\n",
              "<style>\n",
              "  .colab-df-quickchart {\n",
              "      --bg-color: #E8F0FE;\n",
              "      --fill-color: #1967D2;\n",
              "      --hover-bg-color: #E2EBFA;\n",
              "      --hover-fill-color: #174EA6;\n",
              "      --disabled-fill-color: #AAA;\n",
              "      --disabled-bg-color: #DDD;\n",
              "  }\n",
              "\n",
              "  [theme=dark] .colab-df-quickchart {\n",
              "      --bg-color: #3B4455;\n",
              "      --fill-color: #D2E3FC;\n",
              "      --hover-bg-color: #434B5C;\n",
              "      --hover-fill-color: #FFFFFF;\n",
              "      --disabled-bg-color: #3B4455;\n",
              "      --disabled-fill-color: #666;\n",
              "  }\n",
              "\n",
              "  .colab-df-quickchart {\n",
              "    background-color: var(--bg-color);\n",
              "    border: none;\n",
              "    border-radius: 50%;\n",
              "    cursor: pointer;\n",
              "    display: none;\n",
              "    fill: var(--fill-color);\n",
              "    height: 32px;\n",
              "    padding: 0;\n",
              "    width: 32px;\n",
              "  }\n",
              "\n",
              "  .colab-df-quickchart:hover {\n",
              "    background-color: var(--hover-bg-color);\n",
              "    box-shadow: 0 1px 2px rgba(60, 64, 67, 0.3), 0 1px 3px 1px rgba(60, 64, 67, 0.15);\n",
              "    fill: var(--button-hover-fill-color);\n",
              "  }\n",
              "\n",
              "  .colab-df-quickchart-complete:disabled,\n",
              "  .colab-df-quickchart-complete:disabled:hover {\n",
              "    background-color: var(--disabled-bg-color);\n",
              "    fill: var(--disabled-fill-color);\n",
              "    box-shadow: none;\n",
              "  }\n",
              "\n",
              "  .colab-df-spinner {\n",
              "    border: 2px solid var(--fill-color);\n",
              "    border-color: transparent;\n",
              "    border-bottom-color: var(--fill-color);\n",
              "    animation:\n",
              "      spin 1s steps(1) infinite;\n",
              "  }\n",
              "\n",
              "  @keyframes spin {\n",
              "    0% {\n",
              "      border-color: transparent;\n",
              "      border-bottom-color: var(--fill-color);\n",
              "      border-left-color: var(--fill-color);\n",
              "    }\n",
              "    20% {\n",
              "      border-color: transparent;\n",
              "      border-left-color: var(--fill-color);\n",
              "      border-top-color: var(--fill-color);\n",
              "    }\n",
              "    30% {\n",
              "      border-color: transparent;\n",
              "      border-left-color: var(--fill-color);\n",
              "      border-top-color: var(--fill-color);\n",
              "      border-right-color: var(--fill-color);\n",
              "    }\n",
              "    40% {\n",
              "      border-color: transparent;\n",
              "      border-right-color: var(--fill-color);\n",
              "      border-top-color: var(--fill-color);\n",
              "    }\n",
              "    60% {\n",
              "      border-color: transparent;\n",
              "      border-right-color: var(--fill-color);\n",
              "    }\n",
              "    80% {\n",
              "      border-color: transparent;\n",
              "      border-right-color: var(--fill-color);\n",
              "      border-bottom-color: var(--fill-color);\n",
              "    }\n",
              "    90% {\n",
              "      border-color: transparent;\n",
              "      border-bottom-color: var(--fill-color);\n",
              "    }\n",
              "  }\n",
              "</style>\n",
              "\n",
              "  <script>\n",
              "    async function quickchart(key) {\n",
              "      const quickchartButtonEl =\n",
              "        document.querySelector('#' + key + ' button');\n",
              "      quickchartButtonEl.disabled = true;  // To prevent multiple clicks.\n",
              "      quickchartButtonEl.classList.add('colab-df-spinner');\n",
              "      try {\n",
              "        const charts = await google.colab.kernel.invokeFunction(\n",
              "            'suggestCharts', [key], {});\n",
              "      } catch (error) {\n",
              "        console.error('Error during call to suggestCharts:', error);\n",
              "      }\n",
              "      quickchartButtonEl.classList.remove('colab-df-spinner');\n",
              "      quickchartButtonEl.classList.add('colab-df-quickchart-complete');\n",
              "    }\n",
              "    (() => {\n",
              "      let quickchartButtonEl =\n",
              "        document.querySelector('#df-04f8be25-090e-44eb-898c-d01041c824bf button');\n",
              "      quickchartButtonEl.style.display =\n",
              "        google.colab.kernel.accessAllowed ? 'block' : 'none';\n",
              "    })();\n",
              "  </script>\n",
              "</div>\n",
              "\n",
              "    </div>\n",
              "  </div>\n"
            ],
            "application/vnd.google.colaboratory.intrinsic+json": {
              "type": "dataframe",
              "variable_name": "data",
              "summary": "{\n  \"name\": \"data\",\n  \"rows\": 14,\n  \"fields\": [\n    {\n      \"column\": \"product_id\",\n      \"properties\": {\n        \"dtype\": \"number\",\n        \"std\": 4,\n        \"min\": 1001,\n        \"max\": 1014,\n        \"num_unique_values\": 14,\n        \"samples\": [\n          1010,\n          1012,\n          1001\n        ],\n        \"semantic_type\": \"\",\n        \"description\": \"\"\n      }\n    },\n    {\n      \"column\": \"product_name\",\n      \"properties\": {\n        \"dtype\": \"number\",\n        \"std\": 2,\n        \"min\": 0,\n        \"max\": 9,\n        \"num_unique_values\": 10,\n        \"samples\": [\n          2,\n          3,\n          6\n        ],\n        \"semantic_type\": \"\",\n        \"description\": \"\"\n      }\n    },\n    {\n      \"column\": \"gender\",\n      \"properties\": {\n        \"dtype\": \"number\",\n        \"std\": 0,\n        \"min\": 0,\n        \"max\": 1,\n        \"num_unique_values\": 2,\n        \"samples\": [\n          0,\n          1\n        ],\n        \"semantic_type\": \"\",\n        \"description\": \"\"\n      }\n    },\n    {\n      \"column\": \"category\",\n      \"properties\": {\n        \"dtype\": \"number\",\n        \"std\": 1,\n        \"min\": 0,\n        \"max\": 6,\n        \"num_unique_values\": 7,\n        \"samples\": [\n          4,\n          2\n        ],\n        \"semantic_type\": \"\",\n        \"description\": \"\"\n      }\n    },\n    {\n      \"column\": \"pattern\",\n      \"properties\": {\n        \"dtype\": \"number\",\n        \"std\": 1,\n        \"min\": 0,\n        \"max\": 3,\n        \"num_unique_values\": 4,\n        \"samples\": [\n          3,\n          1\n        ],\n        \"semantic_type\": \"\",\n        \"description\": \"\"\n      }\n    },\n    {\n      \"column\": \"color\",\n      \"properties\": {\n        \"dtype\": \"number\",\n        \"std\": 1,\n        \"min\": 0,\n        \"max\": 4,\n        \"num_unique_values\": 5,\n        \"samples\": [\n          0,\n          2\n        ],\n        \"semantic_type\": \"\",\n        \"description\": \"\"\n      }\n    },\n    {\n      \"column\": \"age_group\",\n      \"properties\": {\n        \"dtype\": \"number\",\n        \"std\": 0,\n        \"min\": 0,\n        \"max\": 2,\n        \"num_unique_values\": 3,\n        \"samples\": [\n          1,\n          0\n        ],\n        \"semantic_type\": \"\",\n        \"description\": \"\"\n      }\n    },\n    {\n      \"column\": \"season\",\n      \"properties\": {\n        \"dtype\": \"number\",\n        \"std\": 1,\n        \"min\": 0,\n        \"max\": 4,\n        \"num_unique_values\": 5,\n        \"samples\": [\n          3,\n          1\n        ],\n        \"semantic_type\": \"\",\n        \"description\": \"\"\n      }\n    },\n    {\n      \"column\": \"price\",\n      \"properties\": {\n        \"dtype\": \"number\",\n        \"std\": 35.88243726178803,\n        \"min\": 23.9,\n        \"max\": 129.52,\n        \"num_unique_values\": 14,\n        \"samples\": [\n          42.82,\n          36.11\n        ],\n        \"semantic_type\": \"\",\n        \"description\": \"\"\n      }\n    },\n    {\n      \"column\": \"material\",\n      \"properties\": {\n        \"dtype\": \"number\",\n        \"std\": 1,\n        \"min\": 0,\n        \"max\": 5,\n        \"num_unique_values\": 6,\n        \"samples\": [\n          3,\n          5\n        ],\n        \"semantic_type\": \"\",\n        \"description\": \"\"\n      }\n    },\n    {\n      \"column\": \"sales_count\",\n      \"properties\": {\n        \"dtype\": \"number\",\n        \"std\": 152,\n        \"min\": 50,\n        \"max\": 461,\n        \"num_unique_values\": 14,\n        \"samples\": [\n          335,\n          62\n        ],\n        \"semantic_type\": \"\",\n        \"description\": \"\"\n      }\n    },\n    {\n      \"column\": \"reviews_count\",\n      \"properties\": {\n        \"dtype\": \"number\",\n        \"std\": 27,\n        \"min\": 25,\n        \"max\": 97,\n        \"num_unique_values\": 13,\n        \"samples\": [\n          38,\n          33\n        ],\n        \"semantic_type\": \"\",\n        \"description\": \"\"\n      }\n    },\n    {\n      \"column\": \"average_rating\",\n      \"properties\": {\n        \"dtype\": \"number\",\n        \"std\": 0.5250327043712045,\n        \"min\": 3.2,\n        \"max\": 4.9,\n        \"num_unique_values\": 11,\n        \"samples\": [\n          4.7,\n          4.9\n        ],\n        \"semantic_type\": \"\",\n        \"description\": \"\"\n      }\n    },\n    {\n      \"column\": \"out_of_stock_times\",\n      \"properties\": {\n        \"dtype\": \"number\",\n        \"std\": 1,\n        \"min\": 2,\n        \"max\": 6,\n        \"num_unique_values\": 5,\n        \"samples\": [\n          6,\n          5\n        ],\n        \"semantic_type\": \"\",\n        \"description\": \"\"\n      }\n    },\n    {\n      \"column\": \"brand\",\n      \"properties\": {\n        \"dtype\": \"number\",\n        \"std\": 0,\n        \"min\": 0,\n        \"max\": 0,\n        \"num_unique_values\": 1,\n        \"samples\": [\n          0\n        ],\n        \"semantic_type\": \"\",\n        \"description\": \"\"\n      }\n    },\n    {\n      \"column\": \"discount\",\n      \"properties\": {\n        \"dtype\": \"number\",\n        \"std\": 0.07272180923534245,\n        \"min\": 0.0,\n        \"max\": 0.2,\n        \"num_unique_values\": 5,\n        \"samples\": [\n          0.0\n        ],\n        \"semantic_type\": \"\",\n        \"description\": \"\"\n      }\n    }\n  ]\n}"
            }
          },
          "metadata": {},
          "execution_count": 25
        }
      ],
      "source": [
        "data.head()"
      ]
    },
    {
      "cell_type": "code",
      "execution_count": null,
      "metadata": {
        "id": "ZFg5TxVPnnfJ"
      },
      "outputs": [],
      "source": []
    },
    {
      "cell_type": "code",
      "execution_count": null,
      "metadata": {
        "id": "9Alzug_cI0zX"
      },
      "outputs": [],
      "source": [
        "data['age_group'] = encoder.fit_transform(data['age_group'])\n"
      ]
    },
    {
      "cell_type": "code",
      "execution_count": null,
      "metadata": {
        "id": "u74YxU6-aGBx"
      },
      "outputs": [],
      "source": [
        "X=data.drop(['sales_count'],axis=1)"
      ]
    },
    {
      "cell_type": "code",
      "execution_count": null,
      "metadata": {
        "id": "Q6x3INoydmuX"
      },
      "outputs": [],
      "source": [
        "\n",
        "Y=data['sales_count']"
      ]
    },
    {
      "cell_type": "code",
      "execution_count": null,
      "metadata": {
        "colab": {
          "base_uri": "https://localhost:8080/"
        },
        "id": "kpjutq3di-XU",
        "outputId": "6c44cad8-90c2-4037-f207-6935e8333dc6"
      },
      "outputs": [
        {
          "output_type": "execute_result",
          "data": {
            "text/plain": [
              "(14, 15)"
            ]
          },
          "metadata": {},
          "execution_count": 29
        }
      ],
      "source": [
        "X.shape"
      ]
    },
    {
      "cell_type": "code",
      "execution_count": null,
      "metadata": {
        "colab": {
          "base_uri": "https://localhost:8080/"
        },
        "id": "Qms9jGqIjPQ_",
        "outputId": "6b94d7d3-87bd-48a4-9203-18d8b28ce74b"
      },
      "outputs": [
        {
          "output_type": "execute_result",
          "data": {
            "text/plain": [
              "(14,)"
            ]
          },
          "metadata": {},
          "execution_count": 30
        }
      ],
      "source": [
        "\n",
        "Y.shape"
      ]
    },
    {
      "cell_type": "code",
      "execution_count": null,
      "metadata": {
        "id": "PD8jFETojRg9"
      },
      "outputs": [],
      "source": [
        "X_train, X_test, Y_train, Y_test = train_test_split(X, Y, test_size=0.10, random_state=20)"
      ]
    },
    {
      "cell_type": "code",
      "execution_count": null,
      "metadata": {
        "id": "GhdvesQGjT6z"
      },
      "outputs": [],
      "source": [
        "regressor = XGBRegressor()\n",
        "regressor.fit(X_train,Y_train)\n",
        "y_pred = regressor.predict(X_test)"
      ]
    },
    {
      "cell_type": "code",
      "execution_count": null,
      "metadata": {
        "colab": {
          "base_uri": "https://localhost:8080/"
        },
        "id": "_Dk4ZtIajVs9",
        "outputId": "583cfa04-4141-4355-fccd-f82731a989ea"
      },
      "outputs": [
        {
          "output_type": "execute_result",
          "data": {
            "text/plain": [
              "0.6562698928348092"
            ]
          },
          "metadata": {},
          "execution_count": 33
        }
      ],
      "source": [
        "\n",
        "metrics.r2_score(Y_test, y_pred)"
      ]
    },
    {
      "cell_type": "code",
      "source": [
        "#1002,3,1,2,3,0,0,3,91.59,5,296,25,3.5,6,0,0.00"
      ],
      "metadata": {
        "id": "ENYLPwcMzloq"
      },
      "execution_count": null,
      "outputs": []
    },
    {
      "cell_type": "code",
      "source": [
        "input = (1002,3,1,2,3,0,0,3,91.59,5,296,25,3.5,6,0)\n",
        "new_input = np.asanyarray(input,dtype=float)\n",
        "prediciton = regressor.predict(new_input.reshape(1,-1))\n",
        "print(prediciton)"
      ],
      "metadata": {
        "colab": {
          "base_uri": "https://localhost:8080/"
        },
        "id": "ibWxlSBK02ka",
        "outputId": "d94ac0c9-51a6-48ef-8c35-5579014d8270"
      },
      "execution_count": null,
      "outputs": [
        {
          "output_type": "stream",
          "name": "stdout",
          "text": [
            "[285.56766]\n"
          ]
        }
      ]
    },
    {
      "cell_type": "code",
      "source": [
        "input = (1005,4,1,4,2,0,2,4,125.48,4,79,36,3.6,4,0)\n",
        "#1005,4,1,4,2,0,2,4,125.48,4,79,36,3.6,4,0\n",
        "new_input = np.asanyarray(input,dtype=float)\n",
        "prediciton = regressor.predict(new_input.reshape(1,-1))\n",
        "print(prediciton)"
      ],
      "metadata": {
        "colab": {
          "base_uri": "https://localhost:8080/"
        },
        "id": "tPvKsvp609PY",
        "outputId": "c92ffb7d-d67b-488b-ed98-bc1b63d2041c"
      },
      "execution_count": null,
      "outputs": [
        {
          "output_type": "stream",
          "name": "stdout",
          "text": [
            "[78.911064]\n"
          ]
        }
      ]
    },
    {
      "cell_type": "code",
      "source": [
        "import pickle\n",
        "pickle.dump(regressor,open('model.pkl','wb'))"
      ],
      "metadata": {
        "id": "vqz0dsOG3W18"
      },
      "execution_count": null,
      "outputs": []
    },
    {
      "cell_type": "code",
      "source": [],
      "metadata": {
        "id": "f0ZXTAB9qtuM"
      },
      "execution_count": null,
      "outputs": []
    }
  ],
  "metadata": {
    "colab": {
      "provenance": []
    },
    "kernelspec": {
      "display_name": "Python 3",
      "name": "python3"
    },
    "language_info": {
      "name": "python"
    }
  },
  "nbformat": 4,
  "nbformat_minor": 0
}